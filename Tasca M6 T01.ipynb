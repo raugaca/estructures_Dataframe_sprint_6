{
 "cells": [
  {
   "cell_type": "markdown",
   "id": "25f35ba5",
   "metadata": {},
   "source": [
    "# Exercici 1\n",
    "Crea almenys dos models de regressió diferents per intentar predir el millor possible el preu de les vivendes (MEDV) de l'arxiu adjunt."
   ]
  },
  {
   "cell_type": "code",
   "execution_count": 187,
   "id": "e31e810e",
   "metadata": {},
   "outputs": [
    {
     "data": {
      "text/html": [
       "<div>\n",
       "<style scoped>\n",
       "    .dataframe tbody tr th:only-of-type {\n",
       "        vertical-align: middle;\n",
       "    }\n",
       "\n",
       "    .dataframe tbody tr th {\n",
       "        vertical-align: top;\n",
       "    }\n",
       "\n",
       "    .dataframe thead th {\n",
       "        text-align: right;\n",
       "    }\n",
       "</style>\n",
       "<table border=\"1\" class=\"dataframe\">\n",
       "  <thead>\n",
       "    <tr style=\"text-align: right;\">\n",
       "      <th></th>\n",
       "      <th>CRIM</th>\n",
       "      <th>ZN</th>\n",
       "      <th>INDUS</th>\n",
       "      <th>CHAS</th>\n",
       "      <th>NOX</th>\n",
       "      <th>RM</th>\n",
       "      <th>AGE</th>\n",
       "      <th>DIS</th>\n",
       "      <th>RAD</th>\n",
       "      <th>TAX</th>\n",
       "      <th>PTRATIO</th>\n",
       "      <th>B</th>\n",
       "      <th>LSTAT</th>\n",
       "      <th>MEDV</th>\n",
       "    </tr>\n",
       "  </thead>\n",
       "  <tbody>\n",
       "    <tr>\n",
       "      <th>0</th>\n",
       "      <td>0.00632</td>\n",
       "      <td>18.0</td>\n",
       "      <td>2.31</td>\n",
       "      <td>0</td>\n",
       "      <td>0.538</td>\n",
       "      <td>6.575</td>\n",
       "      <td>65.2</td>\n",
       "      <td>4.0900</td>\n",
       "      <td>1</td>\n",
       "      <td>296.0</td>\n",
       "      <td>15.3</td>\n",
       "      <td>396.90</td>\n",
       "      <td>4.98</td>\n",
       "      <td>24.0</td>\n",
       "    </tr>\n",
       "    <tr>\n",
       "      <th>1</th>\n",
       "      <td>0.02731</td>\n",
       "      <td>0.0</td>\n",
       "      <td>7.07</td>\n",
       "      <td>0</td>\n",
       "      <td>0.469</td>\n",
       "      <td>6.421</td>\n",
       "      <td>78.9</td>\n",
       "      <td>4.9671</td>\n",
       "      <td>2</td>\n",
       "      <td>242.0</td>\n",
       "      <td>17.8</td>\n",
       "      <td>396.90</td>\n",
       "      <td>9.14</td>\n",
       "      <td>21.6</td>\n",
       "    </tr>\n",
       "    <tr>\n",
       "      <th>2</th>\n",
       "      <td>0.02729</td>\n",
       "      <td>0.0</td>\n",
       "      <td>7.07</td>\n",
       "      <td>0</td>\n",
       "      <td>0.469</td>\n",
       "      <td>7.185</td>\n",
       "      <td>61.1</td>\n",
       "      <td>4.9671</td>\n",
       "      <td>2</td>\n",
       "      <td>242.0</td>\n",
       "      <td>17.8</td>\n",
       "      <td>392.83</td>\n",
       "      <td>4.03</td>\n",
       "      <td>34.7</td>\n",
       "    </tr>\n",
       "    <tr>\n",
       "      <th>3</th>\n",
       "      <td>0.03237</td>\n",
       "      <td>0.0</td>\n",
       "      <td>2.18</td>\n",
       "      <td>0</td>\n",
       "      <td>0.458</td>\n",
       "      <td>6.998</td>\n",
       "      <td>45.8</td>\n",
       "      <td>6.0622</td>\n",
       "      <td>3</td>\n",
       "      <td>222.0</td>\n",
       "      <td>18.7</td>\n",
       "      <td>394.63</td>\n",
       "      <td>2.94</td>\n",
       "      <td>33.4</td>\n",
       "    </tr>\n",
       "    <tr>\n",
       "      <th>4</th>\n",
       "      <td>0.06905</td>\n",
       "      <td>0.0</td>\n",
       "      <td>2.18</td>\n",
       "      <td>0</td>\n",
       "      <td>0.458</td>\n",
       "      <td>7.147</td>\n",
       "      <td>54.2</td>\n",
       "      <td>6.0622</td>\n",
       "      <td>3</td>\n",
       "      <td>222.0</td>\n",
       "      <td>18.7</td>\n",
       "      <td>396.90</td>\n",
       "      <td>5.33</td>\n",
       "      <td>36.2</td>\n",
       "    </tr>\n",
       "  </tbody>\n",
       "</table>\n",
       "</div>"
      ],
      "text/plain": [
       "      CRIM    ZN  INDUS  CHAS    NOX     RM   AGE     DIS  RAD    TAX  \\\n",
       "0  0.00632  18.0   2.31     0  0.538  6.575  65.2  4.0900    1  296.0   \n",
       "1  0.02731   0.0   7.07     0  0.469  6.421  78.9  4.9671    2  242.0   \n",
       "2  0.02729   0.0   7.07     0  0.469  7.185  61.1  4.9671    2  242.0   \n",
       "3  0.03237   0.0   2.18     0  0.458  6.998  45.8  6.0622    3  222.0   \n",
       "4  0.06905   0.0   2.18     0  0.458  7.147  54.2  6.0622    3  222.0   \n",
       "\n",
       "   PTRATIO       B  LSTAT  MEDV  \n",
       "0     15.3  396.90   4.98  24.0  \n",
       "1     17.8  396.90   9.14  21.6  \n",
       "2     17.8  392.83   4.03  34.7  \n",
       "3     18.7  394.63   2.94  33.4  \n",
       "4     18.7  396.90   5.33  36.2  "
      ]
     },
     "execution_count": 187,
     "metadata": {},
     "output_type": "execute_result"
    }
   ],
   "source": [
    "import numpy as np\n",
    "import pandas as pd\n",
    "import matplotlib.pyplot as plt\n",
    "import seaborn as sns\n",
    "\n",
    "Titulos=['CRIM', 'ZN', 'INDUS', 'CHAS', 'NOX', 'RM', 'AGE', 'DIS', 'RAD', 'TAX', 'PTRATIO', 'B', 'LSTAT', 'MEDV']\n",
    "housing = pd.read_csv('C:\\\\RAUL\\\\NISSAN\\\\GENERAL\\\\USB\\\\FORMACION\\\\BootCamp - Data Scientist_Analist\\\\IT Academy Cibernarium - Data Science\\\\Data Science Itinerario\\\\5.- Introducción al Test de Hipótesis y al Machine Learning\\\\Entrega\\\\housing data.csv', header=None, names=Titulos)\n",
    "housing.head()"
   ]
  },
  {
   "cell_type": "code",
   "execution_count": 69,
   "id": "90a126db",
   "metadata": {},
   "outputs": [],
   "source": [
    "#Separem les columnes independets de la comlumna dependent o target (MEDV) i fem l'split de Train/Test\n",
    "from sklearn.model_selection import train_test_split\n",
    "\n",
    "X = housing.drop(['MEDV'],axis=1).values\n",
    "y = housing['MEDV'].values\n",
    "X_train,X_test,y_train,y_test = train_test_split(X, y, test_size=0.3, random_state=0)"
   ]
  },
  {
   "cell_type": "markdown",
   "id": "fd30446d",
   "metadata": {},
   "source": [
    "#### Models de Regressió"
   ]
  },
  {
   "cell_type": "code",
   "execution_count": 70,
   "id": "73b61ef0",
   "metadata": {},
   "outputs": [],
   "source": [
    "# Multiple Linear Regression\n",
    "from sklearn.linear_model import LinearRegression\n",
    "\n",
    "model_LinRegre = LinearRegression().fit(X_train, y_train)\n",
    "y_pred_test_linear = model_LinRegre.predict(X_test)"
   ]
  },
  {
   "cell_type": "code",
   "execution_count": 71,
   "id": "73a88af4",
   "metadata": {},
   "outputs": [],
   "source": [
    "# Polynomial Regression\n",
    "from sklearn.linear_model import LinearRegression\n",
    "from sklearn.preprocessing import PolynomialFeatures\n",
    "\n",
    "poly=PolynomialFeatures(degree=2)\n",
    "X_poly_train = poly.fit_transform(X_train) # Primer fem la transformació polinòmica\n",
    "X_poly_test = poly.fit_transform(X_test) # També tranformem les dades de test \n",
    "\n",
    "model_Poly = LinearRegression().fit(X_poly_train, y_train) # i després fem el model \n",
    "y_pred_test_Poly = model_Poly.predict(X_poly_test)"
   ]
  },
  {
   "cell_type": "code",
   "execution_count": 72,
   "id": "1ab4fe12",
   "metadata": {},
   "outputs": [],
   "source": [
    "# Decission Tree\n",
    "from sklearn.tree import DecisionTreeRegressor\n",
    "\n",
    "model_DecTree = DecisionTreeRegressor(random_state=0).fit(X_train, y_train)\n",
    "y_pred_test_decission = model_DecTree.predict(X_test)"
   ]
  },
  {
   "cell_type": "code",
   "execution_count": 135,
   "id": "46c54b72",
   "metadata": {},
   "outputs": [],
   "source": [
    "# Random Forest\n",
    "from sklearn.ensemble import RandomForestRegressor\n",
    "\n",
    "model_RanForest = RandomForestRegressor(n_estimators = 1000, random_state = 42).fit(X_train, y_train)\n",
    "y_pred_test_RanForest = model_RanForest.predict(X_test)"
   ]
  },
  {
   "cell_type": "code",
   "execution_count": 136,
   "id": "8510d7a4",
   "metadata": {},
   "outputs": [],
   "source": [
    "# Neural Network\n",
    "from sklearn.neural_network import MLPRegressor\n",
    "\n",
    "model_NeuNet = MLPRegressor(random_state=1, max_iter=1000).fit(X_train,y_train)\n",
    "y_pred_test_NeuNet = model_NeuNet.predict(X_test)"
   ]
  },
  {
   "cell_type": "markdown",
   "id": "d7d11d1d",
   "metadata": {},
   "source": [
    "# Exercici 2\n",
    "Compara’ls en base al MSE i al R2."
   ]
  },
  {
   "cell_type": "code",
   "execution_count": 137,
   "id": "a6dd28a7",
   "metadata": {},
   "outputs": [],
   "source": [
    "from sklearn.metrics import mean_squared_error\n",
    "from sklearn.metrics import r2_score"
   ]
  },
  {
   "cell_type": "code",
   "execution_count": 320,
   "id": "2c6d9518",
   "metadata": {
    "scrolled": true
   },
   "outputs": [
    {
     "name": "stdout",
     "output_type": "stream",
     "text": [
      "Test Set Regression Models Performance:\n",
      "\n",
      "** MSE (Mean Squared Error) **:\n",
      "Multiple Lineal Regression:  27.196\n",
      "Polynomial Regression:  29.0042\n",
      "Desiccion Tree:  26.352\n",
      "Random Forest:  14.327\n",
      "Neural Network:  24.6819\n",
      "\n",
      "** R2 (Coefficient of determination) **:\n",
      "Multiple Lineal Regression:  0.6734\n",
      "Polynomial Regression:  0.6517\n",
      "Desiccion Tree:  0.6835\n",
      "Random Forest:  0.8279\n",
      "Neural Network:  0.7036\n"
     ]
    }
   ],
   "source": [
    "print(\"Test Set Regression Models Performance:\\n\")\n",
    "\n",
    "print(\"** MSE (Mean Squared Error) **:\")\n",
    "print(\"Multiple Lineal Regression: \",mean_squared_error(y_test, y_pred_test_linear).round(4))\n",
    "print(\"Polynomial Regression: \",mean_squared_error(y_test, y_pred_test_Poly).round(4))\n",
    "print(\"Desiccion Tree: \", mean_squared_error(y_test, y_pred_test_decission).round(4))\n",
    "print(\"Random Forest: \", mean_squared_error(y_test, y_pred_test_RanForest).round(4))\n",
    "print(\"Neural Network: \", mean_squared_error(y_test, y_pred_test_NeuNet).round(4))\n",
    "\n",
    "print(\"\\n** R2 (Coefficient of determination) **:\")\n",
    "print(\"Multiple Lineal Regression: \",model_LinRegre.score(X_test, y_test).round(4))\n",
    "print(\"Polynomial Regression: \",model_Poly.score(X_poly_test, y_test).round(4))\n",
    "print(\"Desiccion Tree: \",model_DecTree.score(X_test, y_test).round(4))\n",
    "print(\"Random Forest: \",model_RanForest.score(X_test, y_test).round(4))\n",
    "print(\"Neural Network: \",model_NeuNet.score(X_test, y_test).round(4))"
   ]
  },
  {
   "cell_type": "markdown",
   "id": "8aafb775",
   "metadata": {},
   "source": [
    "# Exercici 3\n",
    "Entrena’ls utilitzant els diferents paràmetres que admeten per intentar millorar-ne la predicció."
   ]
  },
  {
   "cell_type": "code",
   "execution_count": 308,
   "id": "612f5e5f",
   "metadata": {},
   "outputs": [],
   "source": [
    "# Multiple Linear Regression\n",
    "import warnings\n",
    "warnings.filterwarnings(\"ignore\")\n",
    "\n",
    "model_LinRegre_2 = LinearRegression(normalize=True).fit(X_train, y_train)\n",
    "y_pred_test_linear_2 = model_LinRegre_2.predict(X_test)"
   ]
  },
  {
   "cell_type": "code",
   "execution_count": 309,
   "id": "61234c7f",
   "metadata": {},
   "outputs": [],
   "source": [
    "# Polynomial Regression\n",
    "poly_2=PolynomialFeatures(degree=(2), order='F', interaction_only=True, include_bias=False)\n",
    "X_poly_train_2 = poly_2.fit_transform(X_train) # Primer fem la transformació polinòmica\n",
    "X_poly_test_2 = poly_2.fit_transform(X_test) # També tranformem les dades de test \n",
    "\n",
    "model_Poly_2 = LinearRegression().fit(X_poly_train_2, y_train) # i després fem el model \n",
    "y_pred_test_Poly_2 = model_Poly_2.predict(X_poly_test_2)"
   ]
  },
  {
   "cell_type": "code",
   "execution_count": 310,
   "id": "a5fd2d31",
   "metadata": {},
   "outputs": [],
   "source": [
    "# Decission Tree\n",
    "model_DecTree_2 = DecisionTreeRegressor(random_state=0, min_samples_leaf=11).fit(X_train, y_train)\n",
    "y_pred_test_decission_2 = model_DecTree_2.predict(X_test)"
   ]
  },
  {
   "cell_type": "code",
   "execution_count": 311,
   "id": "45b2320f",
   "metadata": {},
   "outputs": [],
   "source": [
    "# Random Forest\n",
    "model_RanForest_2 = RandomForestRegressor(n_estimators = 1040, random_state = 42, min_weight_fraction_leaf=0.00005).fit(X_train, y_train)\n",
    "y_pred_test_RanForest_2 = model_RanForest_2.predict(X_test)"
   ]
  },
  {
   "cell_type": "code",
   "execution_count": 312,
   "id": "df44d947",
   "metadata": {},
   "outputs": [],
   "source": [
    "# Neural Network\n",
    "model_NeuNet_2 = MLPRegressor(random_state=1, max_iter=3300, solver='lbfgs', alpha=0.05).fit(X_train,y_train)\n",
    "y_pred_test_NeuNet_2 = model_NeuNet.predict(X_test)"
   ]
  },
  {
   "cell_type": "code",
   "execution_count": 321,
   "id": "71f772cb",
   "metadata": {
    "scrolled": true
   },
   "outputs": [
    {
     "name": "stdout",
     "output_type": "stream",
     "text": [
      "Test set Regression Models Performance with tuned parmeters:\n",
      "\n",
      "** MSE (Mean Squared Error) **:\n",
      "Multiple Lineal Regression:  27.196\n",
      "Polynomial Regression:  21.3951\n",
      "Desiccion Tree:  22.2076\n",
      "Random Forest:  14.2963\n",
      "Neural Network:  24.6819\n",
      "\n",
      "** R2 (Coefficient of determination) **:\n",
      "Multiple Lineal Regression:  0.6734\n",
      "Polynomial Regression:  0.743\n",
      "Desiccion Tree:  0.7333\n",
      "Random Forest:  0.8283\n",
      "Neural Network:  0.7649\n"
     ]
    }
   ],
   "source": [
    "print(\"Test set Regression Models Performance with tuned parmeters:\\n\")\n",
    "\n",
    "print(\"** MSE (Mean Squared Error) **:\")\n",
    "print(\"Multiple Lineal Regression: \",mean_squared_error(y_test, y_pred_test_linear_2).round(4))\n",
    "print(\"Polynomial Regression: \",mean_squared_error(y_test, y_pred_test_Poly_2).round(4))\n",
    "print(\"Desiccion Tree: \", mean_squared_error(y_test, y_pred_test_decission_2).round(4))\n",
    "print(\"Random Forest: \", mean_squared_error(y_test, y_pred_test_RanForest_2).round(4))\n",
    "print(\"Neural Network: \", mean_squared_error(y_test, y_pred_test_NeuNet_2).round(4))\n",
    "\n",
    "print(\"\\n** R2 (Coefficient of determination) **:\")\n",
    "print(\"Multiple Lineal Regression: \",model_LinRegre_2.score(X_test, y_test).round(4))\n",
    "print(\"Polynomial Regression: \",model_Poly_2.score(X_poly_test_2, y_test).round(4))\n",
    "print(\"Desiccion Tree: \",model_DecTree_2.score(X_test, y_test).round(4))\n",
    "print(\"Random Forest: \",model_RanForest_2.score(X_test, y_test).round(4))\n",
    "print(\"Neural Network: \",model_NeuNet_2.score(X_test, y_test).round(4))"
   ]
  },
  {
   "cell_type": "markdown",
   "id": "b0b8ba1c",
   "metadata": {},
   "source": [
    "**Conclusions:**\n",
    "* Multiple Linear Regression --> apliquem normalització dels camps però no aconseguim cap millora\n",
    "* Polynomial Regression --> modificant els paràmetres per defecte del PolynomialFeatures aconseguim millorar el R2 de 0.65   a 0.74\n",
    "* Decission Tree --> el paràmetre que millor resultat dona és el \"min_samples_leaf\", limitant les mostres per fulla, passem d'un R2 de 0.68 a 0.73. \n",
    "* Random Forest --> Ajustant paràmetres acoseguim una millora molt petita de 0.8279 a 0.8283\n",
    "* Neural Network --> Incrementant el nombre d'itercions, canviant el solver i pujant el valor d'alpha aconseguim millorar R2 de 0.70 a 0.76"
   ]
  },
  {
   "cell_type": "markdown",
   "id": "60360d2e",
   "metadata": {},
   "source": [
    "# Exercici 4\n",
    "Compara el seu rendiment emprant l’aproximació traint/test o emprant totes les dades (validació interna)."
   ]
  },
  {
   "cell_type": "code",
   "execution_count": 301,
   "id": "55a1d17c",
   "metadata": {},
   "outputs": [],
   "source": [
    "# Aplicarem el Grid Search per cadascun dels 5 models de regressió que estem probant.\n",
    "from sklearn.model_selection import GridSearchCV"
   ]
  },
  {
   "cell_type": "code",
   "execution_count": 302,
   "id": "2d9d9fa6",
   "metadata": {},
   "outputs": [],
   "source": [
    "# Multiple Linear Regression\n",
    "parameters_LR = {\n",
    "            'normalize': [True, False],\n",
    "            'fit_intercept': [True, False],\n",
    "            'positive': [True, False]\n",
    "            }\n",
    "LR=LinearRegression()\n",
    "\n",
    "grid_search_LR = GridSearchCV(LR, parameters_LR, scoring='r2', cv=5)\n",
    "grid_search_LR.fit(X_train, y_train)\n",
    "Y_test_predict_GS_LR = grid_search_LR.predict(X_test)"
   ]
  },
  {
   "cell_type": "code",
   "execution_count": 303,
   "id": "d0f23bae",
   "metadata": {},
   "outputs": [],
   "source": [
    "# Polynomial Regression\n",
    "poly=PolynomialFeatures(degree=2)\n",
    "X_poly_train = poly.fit_transform(X_train) # Primer fem la transformació polinòmica\n",
    "X_poly_test = poly.fit_transform(X_test) # També tranformem les dades de test \n",
    "\n",
    "parameters_PR = {\n",
    "            'normalize': [True, False],\n",
    "            'fit_intercept': [True, False],\n",
    "            'positive': [True, False]\n",
    "            }\n",
    "PR=LinearRegression()\n",
    "\n",
    "grid_search_PR = GridSearchCV(PR, parameters_PR, scoring='r2', cv=5)\n",
    "grid_search_PR.fit(X_poly_train, y_train)\n",
    "Y_test_predict_GS_PR = grid_search_PR.predict(X_poly_test)"
   ]
  },
  {
   "cell_type": "code",
   "execution_count": 304,
   "id": "6d1ed3e3",
   "metadata": {},
   "outputs": [],
   "source": [
    "# Decission Tree\n",
    "parameters_DT = {\n",
    "                \"criterion\": ['squared_error', 'friedman_mse', 'poisson'],\n",
    "                \"splitter\": [\"best\", \"random\"],\n",
    "                \"max_depth\": range(1,8,1),\n",
    "                \"min_samples_split\": range(2,11,1),\n",
    "                \"min_samples_leaf\": range(1,30,5),\n",
    "                }\n",
    "DT=DecisionTreeRegressor(random_state = 0) #Fem servir la mateixa semilla que els anteriors\n",
    "\n",
    "grid_search_DT = GridSearchCV(DT, parameters_DT, scoring='r2', cv=5)\n",
    "grid_search_DT.fit(X_train, y_train)\n",
    "Y_test_predict_GS_DT = grid_search_DT.predict(X_test)"
   ]
  },
  {
   "cell_type": "code",
   "execution_count": 305,
   "id": "7739095d",
   "metadata": {},
   "outputs": [],
   "source": [
    "# Random Forest\n",
    "parameters_RF = {\n",
    "                \"max_depth\": [3, None],\n",
    "                \"max_features\": range(1,11,1),\n",
    "                \"min_samples_split\": range(2,11,1),\n",
    "                \"bootstrap\": [True, False],\n",
    "                }\n",
    "RF=RandomForestRegressor(random_state = 42)\n",
    "\n",
    "grid_search_RF = GridSearchCV(RF, parameters_RF, scoring='r2', cv=5)\n",
    "grid_search_RF.fit(X_train, y_train)\n",
    "Y_test_predict_GS_RF = grid_search_RF.predict(X_test)"
   ]
  },
  {
   "cell_type": "code",
   "execution_count": 306,
   "id": "50d06fbf",
   "metadata": {},
   "outputs": [],
   "source": [
    "# Neural Network\n",
    "parameters_NN = {\n",
    "                \"hidden_layer_sizes\": [(50,50,50), (50,100,50), (100,1)], \n",
    "                \"activation\": [\"identity\", \"logistic\", \"tanh\", \"relu\"], \n",
    "                \"solver\": [\"lbfgs\", \"sgd\", \"adam\"], \n",
    "                \"alpha\": [0.00005,0.0005, 0.0001],\n",
    "                \"learning_rate\": ['constant', 'invscaling', 'adaptive'],\n",
    "                \"warm_start\" : [True, False]\n",
    "                }\n",
    "\n",
    "NN=MLPRegressor(random_state = 0, max_iter=1000)\n",
    "\n",
    "grid_search_NN = GridSearchCV(NN, parameters_NN, scoring='r2', cv=5, n_jobs=-1)\n",
    "grid_search_NN.fit(X_train, y_train)\n",
    "Y_test_predict_GS_NN = grid_search_NN.predict(X_test)"
   ]
  },
  {
   "cell_type": "code",
   "execution_count": 322,
   "id": "f296d5b1",
   "metadata": {},
   "outputs": [
    {
     "name": "stdout",
     "output_type": "stream",
     "text": [
      "Test Set Regression Models Performance applying GridSearchCV:\n",
      "\n",
      "** MSE (Mean Squared Error) **:\n",
      "Linear Regression GS:  27.196\n",
      "Polynomial Regression GS:  29.2525\n",
      "Decission Tree GS:  31.3472\n",
      "Random Forest GS:  19.7556\n",
      "Neural Network:  21.5402\n",
      "\n",
      "** R2 (Coefficient of determination) **:\n",
      "Linear Regression GS:  0.6734\n",
      "Polynomial Regression GS:  0.6487\n",
      "Decission Tree GS:  0.6235\n",
      "Random Forest GS:  0.7627\n",
      "Neural Network:  0.7413\n"
     ]
    }
   ],
   "source": [
    "print(\"Test Set Regression Models Performance applying GridSearchCV:\\n\")\n",
    "\n",
    "print(\"** MSE (Mean Squared Error) **:\")\n",
    "print(\"Multiple Linear Regression GS: \", mean_squared_error(y_test, Y_test_predict_GS_LR).round(4))\n",
    "print(\"Polynomial Regression GS: \", mean_squared_error(y_test, Y_test_predict_GS_PR).round(4))\n",
    "print(\"Decission Tree GS: \", mean_squared_error(y_test, Y_test_predict_GS_DT).round(4))\n",
    "print(\"Random Forest GS: \", mean_squared_error(y_test, Y_test_predict_GS_RF).round(4))\n",
    "print(\"Neural Network: \", mean_squared_error(y_test, Y_test_predict_GS_NN).round(4))\n",
    "\n",
    "print(\"\\n** R2 (Coefficient of determination) **:\")\n",
    "print(\"Multiple Linear Regression GS: \",grid_search_LR.score(X_test, y_test).round(4))\n",
    "print(\"Polynomial Regression GS: \",grid_search_PR.score(X_poly_test, y_test).round(4))\n",
    "print(\"Decission Tree GS: \",grid_search_DT.score(X_test, y_test).round(4))\n",
    "print(\"Random Forest GS: \",grid_search_RF.score(X_test, y_test).round(4))\n",
    "print(\"Neural Network: \",grid_search_NN.score(X_test, y_test).round(4))"
   ]
  },
  {
   "cell_type": "markdown",
   "id": "002e04e2",
   "metadata": {},
   "source": [
    "**Conclusions:**\n",
    "\n",
    "A banda del Multiple Linear Regression que es manté igual, els altres 4 models empitjoren respecte als models dels exercicis 2 i 3, posiblement degut a que aquest primers models ténen overfitting i aquest amb el Gridsearch"
   ]
  },
  {
   "cell_type": "markdown",
   "id": "02e772f9",
   "metadata": {},
   "source": [
    "**How to get Best Model**"
   ]
  },
  {
   "cell_type": "code",
   "execution_count": 337,
   "id": "ef9750d9",
   "metadata": {},
   "outputs": [
    {
     "name": "stdout",
     "output_type": "stream",
     "text": [
      "** GridSearchCV Best Scores **:\n",
      "\n",
      "Best Score Linear Regression:  0.7183\n",
      "Best Score Polynomial Regression:  0.7274\n",
      "Best Score Decission Tree:  0.788\n",
      "Best Score Random Forest:  0.8807\n",
      "Best Score Neural Network:  0.7783\n"
     ]
    }
   ],
   "source": [
    "print(\"** GridSearchCV Best Scores **:\\n\")\n",
    "print(\"Best Score Linear Regression: \",grid_search_LR.best_score_.round(4))\n",
    "print(\"Best Score Polynomial Regression: \",grid_search_PR.best_score_.round(4))\n",
    "print(\"Best Score Decission Tree: \",grid_search_DT.best_score_.round(4))\n",
    "print(\"Best Score Random Forest: \",grid_search_RF.best_score_.round(4))\n",
    "print(\"Best Score Neural Network: \",grid_search_NN.best_score_.round(4))"
   ]
  },
  {
   "cell_type": "code",
   "execution_count": 346,
   "id": "e2c40286",
   "metadata": {},
   "outputs": [
    {
     "data": {
      "text/plain": [
       "0.6892"
      ]
     },
     "execution_count": 346,
     "metadata": {},
     "output_type": "execute_result"
    }
   ],
   "source": [
    "DT_best=DecisionTreeRegressor(**grid_search_DT.best_params_).fit(X_train, y_train)\n",
    "DT_best.score(X_test, y_test).round(4)"
   ]
  },
  {
   "cell_type": "code",
   "execution_count": 344,
   "id": "35f33193",
   "metadata": {},
   "outputs": [
    {
     "data": {
      "text/plain": [
       "0.7446"
      ]
     },
     "execution_count": 344,
     "metadata": {},
     "output_type": "execute_result"
    }
   ],
   "source": [
    "RF_best=RandomForestRegressor(**grid_search_RF.best_params_).fit(X_train, y_train)\n",
    "RF_best.score(X_test, y_test).round(4)"
   ]
  },
  {
   "cell_type": "markdown",
   "id": "151d1c09",
   "metadata": {},
   "source": [
    "# Exercici 5\n",
    "No facis servir la variable del nombre d'habitacions (RM) a l’hora de fer prediccions."
   ]
  },
  {
   "cell_type": "code",
   "execution_count": 248,
   "id": "689128f5",
   "metadata": {},
   "outputs": [],
   "source": [
    "#Treiem la columna RM del dataframe per poder repitir després la resta de pasos dels Exercicis 1 i 2.\n",
    "housing_sRM=housing.drop(['RM'], axis=1)\n",
    "X_sRM = housing_sRM.drop(['MEDV'],axis=1).values\n",
    "y_sRM = housing_sRM['MEDV'].values\n",
    "X_sRM_train, X_sRM_test, y_sRM_train, y_sRM_test = train_test_split(X_sRM, y_sRM, test_size=0.3, random_state=0)"
   ]
  },
  {
   "cell_type": "code",
   "execution_count": 249,
   "id": "3378c2e9",
   "metadata": {},
   "outputs": [],
   "source": [
    "# Multiple Linear Regression --> apliquem normalització dels camps\n",
    "import warnings\n",
    "warnings.filterwarnings(\"ignore\")\n",
    "\n",
    "model_LinRegre_sRM = LinearRegression().fit(X_sRM_train, y_sRM_train)\n",
    "y_pred_test_linear_sRM = model_LinRegre_sRM.predict(X_sRM_test)"
   ]
  },
  {
   "cell_type": "code",
   "execution_count": 250,
   "id": "9070d7f2",
   "metadata": {},
   "outputs": [],
   "source": [
    "# Polynomial Regression --> \n",
    "poly_sRM=PolynomialFeatures(degree=2)\n",
    "X_sRM_poly_train = poly_sRM.fit_transform(X_sRM_train) # Primer fem la transformació polinòmica\n",
    "X_sRM_poly_test = poly_sRM.fit_transform(X_sRM_test) # També tranformem les dades de test \n",
    "\n",
    "model_sRM_Poly = LinearRegression().fit(X_sRM_poly_train, y_sRM_train) # i després fem el model \n",
    "y_pred_test_Poly_sRM = model_sRM_Poly.predict(X_sRM_poly_test)"
   ]
  },
  {
   "cell_type": "code",
   "execution_count": 251,
   "id": "c29caaa9",
   "metadata": {},
   "outputs": [],
   "source": [
    "# Decission Tree\n",
    "model_DecTree_sRM = DecisionTreeRegressor(random_state=0).fit(X_sRM_train, y_sRM_train)\n",
    "y_pred_test_decission_sRM = model_DecTree_sRM.predict(X_sRM_test)"
   ]
  },
  {
   "cell_type": "code",
   "execution_count": 252,
   "id": "c1116c5f",
   "metadata": {},
   "outputs": [],
   "source": [
    "# Random Forest\n",
    "model_RanForest_sRM = RandomForestRegressor(n_estimators = 3000, random_state = 1).fit(X_sRM_train, y_sRM_train)\n",
    "y_pred_test_RanForest_sRM = model_RanForest_sRM.predict(X_sRM_test)"
   ]
  },
  {
   "cell_type": "code",
   "execution_count": 253,
   "id": "b0b8e9a5",
   "metadata": {},
   "outputs": [],
   "source": [
    "# Neural Network\n",
    "model_NeuNet_sRM = MLPRegressor(random_state=1, max_iter=2000).fit(X_sRM_train, y_sRM_train)\n",
    "y_pred_test_NeuNet_sRM = model_NeuNet_sRM.predict(X_sRM_test)"
   ]
  },
  {
   "cell_type": "code",
   "execution_count": 296,
   "id": "ea4ae4f7",
   "metadata": {
    "scrolled": true
   },
   "outputs": [
    {
     "name": "stdout",
     "output_type": "stream",
     "text": [
      "\n",
      "Test Set Regression Models Performance without RM (average number of rooms per dwelling) field:\n",
      "\n",
      "** MSE (Mean Squared Error) **:\n",
      "Multiple Lineal Regression:  30.8541\n",
      "Polynomial Regression:  129.9387\n",
      "Desiccion Tree:  29.6169\n",
      "Random Forest:  22.4891\n",
      "Neural Network:  27.3418\n",
      "\n",
      "** R2 (Coefficient of determination) **:\n",
      "Multiple Lineal Regression:  0.6294\n",
      "Polynomial Regression:  -0.5605\n",
      "Desiccion Tree:  0.6443\n",
      "Random Forest:  0.7299\n",
      "Neural Network:  0.6716\n"
     ]
    }
   ],
   "source": [
    "print(\"\\nTest Set Regression Models Performance without RM (average number of rooms per dwelling) field:\\n\")\n",
    "\n",
    "print(\"** MSE (Mean Squared Error) **:\")\n",
    "print(\"Multiple Lineal Regression: \",mean_squared_error(y_sRM_test, y_pred_test_linear_sRM).round(4))\n",
    "print(\"Polynomial Regression: \",mean_squared_error(y_sRM_test, y_pred_test_Poly_sRM).round(4))\n",
    "print(\"Desiccion Tree: \", mean_squared_error(y_sRM_test, y_pred_test_decission_sRM).round(4))\n",
    "print(\"Random Forest: \", mean_squared_error(y_sRM_test, y_pred_test_RanForest_sRM).round(4))\n",
    "print(\"Neural Network: \", mean_squared_error(y_sRM_test, y_pred_test_NeuNet_sRM).round(4))\n",
    "\n",
    "print(\"\\n** R2 (Coefficient of determination) **:\")\n",
    "print(\"Multiple Lineal Regression: \",model_LinRegre_sRM.score(X_sRM_test, y_sRM_test).round(4))\n",
    "print(\"Polynomial Regression: \",model_sRM_Poly.score(X_sRM_poly_test, y_sRM_test).round(4))\n",
    "print(\"Desiccion Tree: \",model_DecTree_sRM.score(X_sRM_test, y_sRM_test).round(4))\n",
    "print(\"Random Forest: \",model_RanForest_sRM.score(X_sRM_test, y_sRM_test).round(4))\n",
    "print(\"Neural Network: \",model_NeuNet_sRM.score(X_sRM_test, y_sRM_test).round(4))"
   ]
  },
  {
   "cell_type": "markdown",
   "id": "c910508f",
   "metadata": {},
   "source": [
    "**Conclusió:**  \n",
    "Tots els resultats empitjoren en comparació als obtinguts entre l'Execici1 i el 2, especielment la Regressió Polinòmica que deixaria de ser representativa per tenir un valor d'R2 negatiu. El motiu és que al treure del model el camp **RM**, que juntament amb el **LSTAT**, són els que ténen una correl.lació més forta amb el target **MEDV**, tots els resultats obtinguts amb els diferents models de regressió empitjoren."
   ]
  },
  {
   "cell_type": "code",
   "execution_count": null,
   "id": "3b80800d",
   "metadata": {},
   "outputs": [],
   "source": []
  }
 ],
 "metadata": {
  "kernelspec": {
   "display_name": "Python 3 (ipykernel)",
   "language": "python",
   "name": "python3"
  },
  "language_info": {
   "codemirror_mode": {
    "name": "ipython",
    "version": 3
   },
   "file_extension": ".py",
   "mimetype": "text/x-python",
   "name": "python",
   "nbconvert_exporter": "python",
   "pygments_lexer": "ipython3",
   "version": "3.9.12"
  }
 },
 "nbformat": 4,
 "nbformat_minor": 5
}
